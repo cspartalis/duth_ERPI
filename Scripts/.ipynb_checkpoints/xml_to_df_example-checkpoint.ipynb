{
 "cells": [
  {
   "cell_type": "markdown",
   "metadata": {},
   "source": [
    "# Περιγραφή\n",
    "\n",
    "Στο συγκεκριμένο notebook αποτυπώνεται η διαδικασία της επεξεργασία των δεδομένων (raw data), τα οποία βρίσκονται σε **xml** format, έτσι ώστε να αποτυπωθούν με τη μορφή ένος **DataFrame** (από τη βιβλιοθήκη pandas της python).\n",
    "\n",
    "Η εν λόγω διαδικασία αποτελεί ένα παράδειγμα και αναφέρεται στα δεδομένα που εξήχθησαν από **έναν** άνθρωπο (subject). \n",
    "\n",
    "Η κατανόηση του παραδείγματος θα βοηθήσει στη γενίκευση της διαδικασίας για όλους τους χρήστες."
   ]
  },
  {
   "cell_type": "markdown",
   "metadata": {},
   "source": [
    "# Εισαγωγή βιβλιοθηκών"
   ]
  },
  {
   "cell_type": "code",
   "execution_count": 23,
   "metadata": {},
   "outputs": [],
   "source": [
    "import os\n",
    "import xml.etree.ElementTree as et\n",
    "import pandas as pd"
   ]
  },
  {
   "cell_type": "markdown",
   "metadata": {},
   "source": [
    "# Επεξεργασία δεδομένων\n",
    "\n",
    "Προεπισκόπηση της μορφής των δεδομένων (xml format)\n",
    "\n",
    "<img src=../Images/raw_data_preview_example.png align=\"left\"/>\n",
    "\n",
    "|  TAGS   |     CHILDREN     |\n",
    "|---------|------------------|\n",
    "|  ID     |         -        |\n",
    "| WRITING | DATE, TEXT, INFO |\n",
    "| WRITING | DATE, TEXT, INFO |\n",
    "| WRITING | DATE, TEXT, INFO |\n",
    "|   ...   |      ...         |\n"
   ]
  },
  {
   "cell_type": "code",
   "execution_count": 2,
   "metadata": {},
   "outputs": [],
   "source": [
    "tree = et.parse('/home/kaml/Documents/ERPI/Data/data/subject0.xml')\n",
    "root = tree.getroot()"
   ]
  },
  {
   "cell_type": "code",
   "execution_count": 3,
   "metadata": {},
   "outputs": [
    {
     "name": "stdout",
     "output_type": "stream",
     "text": [
      "subject0\n"
     ]
    }
   ],
   "source": [
    "for ID in root.findall('ID'):\n",
    "    identity = ID.text\n",
    "    print (identity)"
   ]
  },
  {
   "cell_type": "code",
   "execution_count": 17,
   "metadata": {},
   "outputs": [],
   "source": [
    "def check_if_NoneType(child):\n",
    "    '''\n",
    "    Avoid AttributeError: 'NoneType' object has no attribute 'text'\n",
    "    '''\n",
    "    if writing.find(child) is not None:\n",
    "        return writing.find(child).text\n",
    "    else:\n",
    "        return 'NaN'\n",
    "\n",
    "dates = []\n",
    "texts = []\n",
    "infos = []\n",
    "for writing in root.findall('WRITING'):\n",
    "    dates.append(check_if_NoneType('DATE'))\n",
    "    texts.append(check_if_NoneType('TEXT'))\n",
    "    infos.append(check_if_NoneType('INFO'))"
   ]
  },
  {
   "cell_type": "code",
   "execution_count": 34,
   "metadata": {},
   "outputs": [],
   "source": [
    "zippedList =  list(zip(dates, texts, infos))\n",
    "df = pd.DataFrame(data=zippedList, columns=['Dates', 'Texts', 'Infos'])\n",
    "df['Subjects'] = identity"
   ]
  },
  {
   "cell_type": "code",
   "execution_count": 35,
   "metadata": {},
   "outputs": [
    {
     "data": {
      "text/html": [
       "<div>\n",
       "<style scoped>\n",
       "    .dataframe tbody tr th:only-of-type {\n",
       "        vertical-align: middle;\n",
       "    }\n",
       "\n",
       "    .dataframe tbody tr th {\n",
       "        vertical-align: top;\n",
       "    }\n",
       "\n",
       "    .dataframe thead th {\n",
       "        text-align: right;\n",
       "    }\n",
       "</style>\n",
       "<table border=\"1\" class=\"dataframe\">\n",
       "  <thead>\n",
       "    <tr style=\"text-align: right;\">\n",
       "      <th></th>\n",
       "      <th>Dates</th>\n",
       "      <th>Texts</th>\n",
       "      <th>Infos</th>\n",
       "      <th>Subjects</th>\n",
       "    </tr>\n",
       "  </thead>\n",
       "  <tbody>\n",
       "    <tr>\n",
       "      <th>0</th>\n",
       "      <td>2013-09-10 23:16:04</td>\n",
       "      <td>I'm a little late for this, but I agree. I tho...</td>\n",
       "      <td>Reddit post</td>\n",
       "      <td>subject0</td>\n",
       "    </tr>\n",
       "    <tr>\n",
       "      <th>1</th>\n",
       "      <td>2013-09-15 10:51:21</td>\n",
       "      <td>Regular Monster was ruined for me. I was drink...</td>\n",
       "      <td>Reddit post</td>\n",
       "      <td>subject0</td>\n",
       "    </tr>\n",
       "    <tr>\n",
       "      <th>2</th>\n",
       "      <td>2013-09-15 11:06:58</td>\n",
       "      <td>Can you elaborate on the prostitution?</td>\n",
       "      <td>Reddit post</td>\n",
       "      <td>subject0</td>\n",
       "    </tr>\n",
       "    <tr>\n",
       "      <th>3</th>\n",
       "      <td>2013-09-15 12:09:09</td>\n",
       "      <td>Most free porn sites (Pornhub, Redtube) are ow...</td>\n",
       "      <td>Reddit post</td>\n",
       "      <td>subject0</td>\n",
       "    </tr>\n",
       "    <tr>\n",
       "      <th>4</th>\n",
       "      <td>2013-09-15 12:23:11</td>\n",
       "      <td>Why? You can not use the site if you feel \"exp...</td>\n",
       "      <td>Reddit post</td>\n",
       "      <td>subject0</td>\n",
       "    </tr>\n",
       "  </tbody>\n",
       "</table>\n",
       "</div>"
      ],
      "text/plain": [
       "                 Dates                                              Texts  \\\n",
       "0  2013-09-10 23:16:04  I'm a little late for this, but I agree. I tho...   \n",
       "1  2013-09-15 10:51:21  Regular Monster was ruined for me. I was drink...   \n",
       "2  2013-09-15 11:06:58             Can you elaborate on the prostitution?   \n",
       "3  2013-09-15 12:09:09  Most free porn sites (Pornhub, Redtube) are ow...   \n",
       "4  2013-09-15 12:23:11  Why? You can not use the site if you feel \"exp...   \n",
       "\n",
       "         Infos  Subjects  \n",
       "0  Reddit post  subject0  \n",
       "1  Reddit post  subject0  \n",
       "2  Reddit post  subject0  \n",
       "3  Reddit post  subject0  \n",
       "4  Reddit post  subject0  "
      ]
     },
     "execution_count": 35,
     "metadata": {},
     "output_type": "execute_result"
    }
   ],
   "source": [
    "df.head()"
   ]
  }
 ],
 "metadata": {
  "kernelspec": {
   "display_name": "Python 3",
   "language": "python",
   "name": "python3"
  },
  "language_info": {
   "codemirror_mode": {
    "name": "ipython",
    "version": 3
   },
   "file_extension": ".py",
   "mimetype": "text/x-python",
   "name": "python",
   "nbconvert_exporter": "python",
   "pygments_lexer": "ipython3",
   "version": "3.7.5"
  }
 },
 "nbformat": 4,
 "nbformat_minor": 4
}

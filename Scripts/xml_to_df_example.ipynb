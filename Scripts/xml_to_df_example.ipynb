{
 "cells": [
  {
   "cell_type": "markdown",
   "metadata": {},
   "source": [
    "# Περιγραφή\n",
    "\n",
    "Στο συγκεκριμένο notebook αποτυπώνεται η διαδικασία της επεξεργασία των δεδομένων (raw data), τα οποία βρίσκονται σε **xml** format, έτσι ώστε να αποτυπωθούν με τη μορφή ένος **DataFrame** (από τη βιβλιοθήκη pandas της python).\n",
    "\n",
    "Η εν λόγω διαδικασία αποτελεί ένα παράδειγμα και αναφέρεται στα δεδομένα που εξήχθησαν από **έναν** άνθρωπο (subject). \n",
    "\n",
    "Η κατανόηση του παραδείγματος θα βοηθήσει στη γενίκευση της διαδικασίας για όλους τους χρήστες."
   ]
  },
  {
   "cell_type": "markdown",
   "metadata": {},
   "source": [
    "# Εισαγωγή βιβλιοθηκών"
   ]
  },
  {
   "cell_type": "code",
   "execution_count": 36,
   "metadata": {},
   "outputs": [],
   "source": [
    "import os\n",
    "import xml.etree.ElementTree as et\n",
    "import pandas as pd"
   ]
  },
  {
   "cell_type": "markdown",
   "metadata": {},
   "source": [
    "# Επεξεργασία δεδομένων\n",
    "\n",
    "Προεπισκόπηση της μορφής των δεδομένων (xml format)\n",
    "\n",
    "<img src=../Images/raw_data_preview_example.png align=\"left\"/>\n",
    "\n",
    "|  TAGS   |     CHILDREN     |\n",
    "|---------|------------------|\n",
    "|  ID     |         -        |\n",
    "| WRITING | DATE, TEXT, INFO |\n",
    "| WRITING | DATE, TEXT, INFO |\n",
    "| WRITING | DATE, TEXT, INFO |\n",
    "|   ...   |      ...         |\n"
   ]
  },
  {
   "cell_type": "code",
   "execution_count": 40,
   "metadata": {},
   "outputs": [],
   "source": [
    "tree = et.parse('/home/kaml/Documents/ERPI/Data/data/subject47.xml')\n",
    "root = tree.getroot()"
   ]
  },
  {
   "cell_type": "code",
   "execution_count": 41,
   "metadata": {},
   "outputs": [
    {
     "name": "stdout",
     "output_type": "stream",
     "text": [
      "subject47\n"
     ]
    }
   ],
   "source": [
    "for ID in root.findall('ID'):\n",
    "    identity = ID.text\n",
    "    print (identity)"
   ]
  },
  {
   "cell_type": "code",
   "execution_count": 49,
   "metadata": {},
   "outputs": [],
   "source": [
    "def check_if_NoneType(child):\n",
    "    '''\n",
    "    Avoid AttributeError: 'NoneType' object has no attribute 'text'\n",
    "    '''\n",
    "    if writing.find(child) is not None:\n",
    "        return writing.find(child).text\n",
    "    else:\n",
    "        return 'NaN'\n",
    "\n",
    "datetimes = []\n",
    "texts = []\n",
    "infos = []\n",
    "for writing in root.findall('WRITING'):\n",
    "    datetimes.append(check_if_NoneType('DATE'))\n",
    "    texts.append(check_if_NoneType('TEXT'))\n",
    "    infos.append(check_if_NoneType('INFO'))"
   ]
  },
  {
   "cell_type": "code",
   "execution_count": 50,
   "metadata": {},
   "outputs": [],
   "source": [
    "zippedList =  list(zip(datetimes, texts, infos))\n",
    "df = pd.DataFrame(data=zippedList, columns=['DateTime', 'Text', 'Info'])\n",
    "df['DateTime'] = pd.to_datetime(df['DateTime'])\n",
    "df['Subject'] = identity\n"
   ]
  },
  {
   "cell_type": "code",
   "execution_count": 51,
   "metadata": {},
   "outputs": [
    {
     "data": {
      "text/html": [
       "<div>\n",
       "<style scoped>\n",
       "    .dataframe tbody tr th:only-of-type {\n",
       "        vertical-align: middle;\n",
       "    }\n",
       "\n",
       "    .dataframe tbody tr th {\n",
       "        vertical-align: top;\n",
       "    }\n",
       "\n",
       "    .dataframe thead th {\n",
       "        text-align: right;\n",
       "    }\n",
       "</style>\n",
       "<table border=\"1\" class=\"dataframe\">\n",
       "  <thead>\n",
       "    <tr style=\"text-align: right;\">\n",
       "      <th></th>\n",
       "      <th>DateTime</th>\n",
       "      <th>Text</th>\n",
       "      <th>Info</th>\n",
       "      <th>Subject</th>\n",
       "    </tr>\n",
       "  </thead>\n",
       "  <tbody>\n",
       "    <tr>\n",
       "      <th>0</th>\n",
       "      <td>2013-06-20 13:24:41</td>\n",
       "      <td>Chapsticks. Always. Never fails. I've invested...</td>\n",
       "      <td>Reddit post</td>\n",
       "      <td>subject47</td>\n",
       "    </tr>\n",
       "    <tr>\n",
       "      <th>1</th>\n",
       "      <td>2013-06-20 13:27:38</td>\n",
       "      <td>Same here. I stopped carrying make up in my ba...</td>\n",
       "      <td>Reddit post</td>\n",
       "      <td>subject47</td>\n",
       "    </tr>\n",
       "    <tr>\n",
       "      <th>2</th>\n",
       "      <td>2013-06-22 09:27:30</td>\n",
       "      <td>What a scumbag.</td>\n",
       "      <td>Reddit post</td>\n",
       "      <td>subject47</td>\n",
       "    </tr>\n",
       "    <tr>\n",
       "      <th>3</th>\n",
       "      <td>2013-06-26 11:30:13</td>\n",
       "      <td>What the hell is a paradox? I have googled it ...</td>\n",
       "      <td>Reddit post</td>\n",
       "      <td>subject47</td>\n",
       "    </tr>\n",
       "    <tr>\n",
       "      <th>4</th>\n",
       "      <td>2013-06-26 12:50:14</td>\n",
       "      <td>I'm still... This is why I don't ask... Thank ...</td>\n",
       "      <td>Reddit post</td>\n",
       "      <td>subject47</td>\n",
       "    </tr>\n",
       "  </tbody>\n",
       "</table>\n",
       "</div>"
      ],
      "text/plain": [
       "             DateTime                                               Text  \\\n",
       "0 2013-06-20 13:24:41  Chapsticks. Always. Never fails. I've invested...   \n",
       "1 2013-06-20 13:27:38  Same here. I stopped carrying make up in my ba...   \n",
       "2 2013-06-22 09:27:30                                    What a scumbag.   \n",
       "3 2013-06-26 11:30:13  What the hell is a paradox? I have googled it ...   \n",
       "4 2013-06-26 12:50:14  I'm still... This is why I don't ask... Thank ...   \n",
       "\n",
       "          Info    Subject  \n",
       "0  Reddit post  subject47  \n",
       "1  Reddit post  subject47  \n",
       "2  Reddit post  subject47  \n",
       "3  Reddit post  subject47  \n",
       "4  Reddit post  subject47  "
      ]
     },
     "execution_count": 51,
     "metadata": {},
     "output_type": "execute_result"
    }
   ],
   "source": [
    "df.head()"
   ]
  },
  {
   "cell_type": "code",
   "execution_count": 52,
   "metadata": {},
   "outputs": [
    {
     "name": "stdout",
     "output_type": "stream",
     "text": [
      "<class 'pandas.core.frame.DataFrame'>\n",
      "RangeIndex: 436 entries, 0 to 435\n",
      "Data columns (total 4 columns):\n",
      " #   Column    Non-Null Count  Dtype         \n",
      "---  ------    --------------  -----         \n",
      " 0   DateTime  436 non-null    datetime64[ns]\n",
      " 1   Text      436 non-null    object        \n",
      " 2   Info      436 non-null    object        \n",
      " 3   Subject   436 non-null    object        \n",
      "dtypes: datetime64[ns](1), object(3)\n",
      "memory usage: 13.8+ KB\n"
     ]
    }
   ],
   "source": [
    "df.info()"
   ]
  }
 ],
 "metadata": {
  "kernelspec": {
   "display_name": "Python 3",
   "language": "python",
   "name": "python3"
  },
  "language_info": {
   "codemirror_mode": {
    "name": "ipython",
    "version": 3
   },
   "file_extension": ".py",
   "mimetype": "text/x-python",
   "name": "python",
   "nbconvert_exporter": "python",
   "pygments_lexer": "ipython3",
   "version": "3.7.5"
  }
 },
 "nbformat": 4,
 "nbformat_minor": 4
}

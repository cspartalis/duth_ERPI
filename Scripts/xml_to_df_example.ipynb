{
 "cells": [
  {
   "cell_type": "markdown",
   "metadata": {},
   "source": [
    "# Περιγραφή\n",
    "\n",
    "Στο συγκεκριμένο notebook αποτυπώνεται η διαδικασία της επεξεργασία των δεδομένων (raw data), τα οποία βρίσκονται σε **xml** format, έτσι ώστε να αποτυπωθούν με τη μορφή ένος **DataFrame** (από τη βιβλιοθήκη pandas της python).\n",
    "\n",
    "Η εν λόγω διαδικασία αποτελεί ένα παράδειγμα και αναφέρεται στα δεδομένα που εξήχθησαν από **έναν** άνθρωπο (subject). \n",
    "\n",
    "Η κατανόηση του παραδείγματος θα βοηθήσει στη γενίκευση της διαδικασίας για όλους τους χρήστες."
   ]
  },
  {
   "cell_type": "markdown",
   "metadata": {},
   "source": [
    "# Εισαγωγή βιβλιοθηκών"
   ]
  },
  {
   "cell_type": "code",
   "execution_count": 129,
   "metadata": {},
   "outputs": [],
   "source": [
    "import os\n",
    "import xml.etree.ElementTree as et\n",
    "import pandas as pd"
   ]
  },
  {
   "cell_type": "markdown",
   "metadata": {},
   "source": [
    "# Επεξεργασία δεδομένων\n",
    "\n",
    "Προεπισκόπηση της μορφής των δεδομένων (xml format)\n",
    "\n",
    "<img src=../Images/raw_data_preview_example.png align=\"left\"/> "
   ]
  },
  {
   "cell_type": "markdown",
   "metadata": {},
   "source": [
    "### Πρώτη εκτίμηση για missing data\n",
    "\n",
    "\n",
    "|  TAGS   |     CHILDREN      |\n",
    "|---------|-------------------|\n",
    "|  ID     |           -       |\n",
    "| WRITING | DATE, TITLE, INFO |\n",
    "| WRITING | DATE, TITLE, INFO |\n",
    "| WRITING | DATE, TEXT, INFO  |\n",
    "|   ...   |        ...        |\n",
    "  \n",
    "Παρατηρούμε ότι τα CHILDREN του WRITING στη **γενική περέπτωση** είναι τέσσερα. \n",
    "\n",
    "```python\n",
    "{'DATE', 'TITLE', 'TEXT', 'INFO'}\n",
    "```\n",
    "\n",
    "Παρ' όλα αυτά -κατά περιπτώσεις- το πλήθος των CHILDREN διαφέρει. \n",
    "  \n",
    "Έπειτα από σχετική εξέταση στα δεδομένα όλων των ανθρώπων (subjects), τα παραπανώ ισχύουν γενικά για όλα τα δεδομένα."
   ]
  },
  {
   "cell_type": "code",
   "execution_count": 122,
   "metadata": {},
   "outputs": [],
   "source": [
    "tree = et.parse('/home/kaml/Documents/ERPI/Data/data/subject1793.xml')\n",
    "root = tree.getroot()"
   ]
  },
  {
   "cell_type": "code",
   "execution_count": 123,
   "metadata": {},
   "outputs": [
    {
     "name": "stdout",
     "output_type": "stream",
     "text": [
      "{'DATE', 'TITLE', 'TEXT', 'INFO'}\n"
     ]
    }
   ],
   "source": [
    "tag_names = {t.tag for t in root.findall('.//WRITING/*')}\n",
    "print (tag_names)"
   ]
  },
  {
   "cell_type": "code",
   "execution_count": 124,
   "metadata": {},
   "outputs": [
    {
     "name": "stdout",
     "output_type": "stream",
     "text": [
      "subject1793\n"
     ]
    }
   ],
   "source": [
    "for ID in root.findall('ID'):\n",
    "    identity = ID.text\n",
    "    print (identity)"
   ]
  },
  {
   "cell_type": "code",
   "execution_count": 125,
   "metadata": {},
   "outputs": [],
   "source": [
    "def check_if_NoneType(child):\n",
    "    '''\n",
    "    Avoid AttributeError: 'NoneType' object has no attribute 'text'\n",
    "    '''\n",
    "    if writing.find(child) is not None:\n",
    "        return writing.find(child).text\n",
    "    else:\n",
    "        return 'NaN'\n",
    "\n",
    "datetimes = []\n",
    "texts     = []\n",
    "infos     = []\n",
    "titles    = []\n",
    "\n",
    "for writing in root.findall('WRITING'):\n",
    "    datetimes.append(check_if_NoneType('DATE'))\n",
    "    texts.append(check_if_NoneType('TEXT'))\n",
    "    infos.append(check_if_NoneType('INFO'))\n",
    "    titles.append(check_if_NoneType('TITLE'))"
   ]
  },
  {
   "cell_type": "code",
   "execution_count": 126,
   "metadata": {},
   "outputs": [],
   "source": [
    "zippedList =  list(zip(datetimes, titles, texts, infos))\n",
    "df = pd.DataFrame(data=zippedList, columns=['DateTime','Title', 'Text', 'Info'])\n",
    "df['DateTime'] = pd.to_datetime(df['DateTime'])\n",
    "df['Subject'] = identity\n"
   ]
  },
  {
   "cell_type": "code",
   "execution_count": 127,
   "metadata": {},
   "outputs": [
    {
     "data": {
      "text/html": [
       "<div>\n",
       "<style scoped>\n",
       "    .dataframe tbody tr th:only-of-type {\n",
       "        vertical-align: middle;\n",
       "    }\n",
       "\n",
       "    .dataframe tbody tr th {\n",
       "        vertical-align: top;\n",
       "    }\n",
       "\n",
       "    .dataframe thead th {\n",
       "        text-align: right;\n",
       "    }\n",
       "</style>\n",
       "<table border=\"1\" class=\"dataframe\">\n",
       "  <thead>\n",
       "    <tr style=\"text-align: right;\">\n",
       "      <th></th>\n",
       "      <th>DateTime</th>\n",
       "      <th>Title</th>\n",
       "      <th>Text</th>\n",
       "      <th>Info</th>\n",
       "      <th>Subject</th>\n",
       "    </tr>\n",
       "  </thead>\n",
       "  <tbody>\n",
       "    <tr>\n",
       "      <th>0</th>\n",
       "      <td>2016-05-17 16:48:36</td>\n",
       "      <td>Worst experience with drugs you've ever had?</td>\n",
       "      <td>NaN</td>\n",
       "      <td>Reddit post</td>\n",
       "      <td>subject1793</td>\n",
       "    </tr>\n",
       "    <tr>\n",
       "      <th>1</th>\n",
       "      <td>2016-05-18 18:36:01</td>\n",
       "      <td>Dillion supply co</td>\n",
       "      <td>NaN</td>\n",
       "      <td>Reddit post</td>\n",
       "      <td>subject1793</td>\n",
       "    </tr>\n",
       "    <tr>\n",
       "      <th>2</th>\n",
       "      <td>2016-05-19 01:13:41</td>\n",
       "      <td>NaN</td>\n",
       "      <td>fuckin autocorrect lol</td>\n",
       "      <td>Reddit post</td>\n",
       "      <td>subject1793</td>\n",
       "    </tr>\n",
       "    <tr>\n",
       "      <th>3</th>\n",
       "      <td>2016-05-19 01:24:14</td>\n",
       "      <td>NaN</td>\n",
       "      <td>didn't try to get inside, looked pretty hard t...</td>\n",
       "      <td>Reddit post</td>\n",
       "      <td>subject1793</td>\n",
       "    </tr>\n",
       "    <tr>\n",
       "      <th>4</th>\n",
       "      <td>2016-05-19 05:27:45</td>\n",
       "      <td>NaN</td>\n",
       "      <td>wondering the same</td>\n",
       "      <td>Reddit post</td>\n",
       "      <td>subject1793</td>\n",
       "    </tr>\n",
       "  </tbody>\n",
       "</table>\n",
       "</div>"
      ],
      "text/plain": [
       "             DateTime                                         Title  \\\n",
       "0 2016-05-17 16:48:36  Worst experience with drugs you've ever had?   \n",
       "1 2016-05-18 18:36:01                             Dillion supply co   \n",
       "2 2016-05-19 01:13:41                                           NaN   \n",
       "3 2016-05-19 01:24:14                                           NaN   \n",
       "4 2016-05-19 05:27:45                                           NaN   \n",
       "\n",
       "                                                Text         Info      Subject  \n",
       "0                                                NaN  Reddit post  subject1793  \n",
       "1                                                NaN  Reddit post  subject1793  \n",
       "2                             fuckin autocorrect lol  Reddit post  subject1793  \n",
       "3  didn't try to get inside, looked pretty hard t...  Reddit post  subject1793  \n",
       "4                                 wondering the same  Reddit post  subject1793  "
      ]
     },
     "execution_count": 127,
     "metadata": {},
     "output_type": "execute_result"
    }
   ],
   "source": [
    "df.head()"
   ]
  },
  {
   "cell_type": "code",
   "execution_count": 128,
   "metadata": {},
   "outputs": [
    {
     "name": "stdout",
     "output_type": "stream",
     "text": [
      "<class 'pandas.core.frame.DataFrame'>\n",
      "RangeIndex: 573 entries, 0 to 572\n",
      "Data columns (total 5 columns):\n",
      " #   Column    Non-Null Count  Dtype         \n",
      "---  ------    --------------  -----         \n",
      " 0   DateTime  573 non-null    datetime64[ns]\n",
      " 1   Title     573 non-null    object        \n",
      " 2   Text      573 non-null    object        \n",
      " 3   Info      573 non-null    object        \n",
      " 4   Subject   573 non-null    object        \n",
      "dtypes: datetime64[ns](1), object(4)\n",
      "memory usage: 22.5+ KB\n"
     ]
    }
   ],
   "source": [
    "df.info()"
   ]
  }
 ],
 "metadata": {
  "kernelspec": {
   "display_name": "Python 3",
   "language": "python",
   "name": "python3"
  },
  "language_info": {
   "codemirror_mode": {
    "name": "ipython",
    "version": 3
   },
   "file_extension": ".py",
   "mimetype": "text/x-python",
   "name": "python",
   "nbconvert_exporter": "python",
   "pygments_lexer": "ipython3",
   "version": "3.7.5"
  }
 },
 "nbformat": 4,
 "nbformat_minor": 4
}

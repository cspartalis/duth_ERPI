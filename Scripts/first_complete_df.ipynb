{
 "cells": [
  {
   "cell_type": "markdown",
   "metadata": {},
   "source": [
    "# Περιγραφή\n",
    "\n",
    "Δημιουργία του **πρωτόλειου DataFrame** που περιέχει όλα τα διαθέσιμα δεδομένα. Η μετατροπή της μορφοποίησης των δεδομένων γίνεται για λόγους **ευχρηστίας**. Τέλος πραγματοποιείται η εξαγωγή του DataFrame σε **csv** αρχείο, με σκοπό την εύκολη και γρήγορη χρήση του στο μέλλον.\n",
    "\n",
    "Σε αυτό το notebook συγκεντρώθηκαν τα δεδομένα από όλα τα xml αρχεία που έχουμε στη διάθεση μας. Κάθε xml αρχείο αντιστοιχεί και σ' έναν υπο εξέταση άνθρωπο (subject). Η ανάπτυξη του κώδικα στο συγκεκριμένο notebook βασίστηκε στο *xml_to_df_example.ipynb*, το οποίο περιγράφει τη διαδικασία μετατροπής των δεδομένων, που αναφέρονται σε έναν μόνο άνθρωπο."
   ]
  },
  {
   "cell_type": "markdown",
   "metadata": {},
   "source": [
    "# Εισαγωγή βιβλιοθηκών"
   ]
  },
  {
   "cell_type": "code",
   "execution_count": 78,
   "metadata": {},
   "outputs": [],
   "source": [
    "import os\n",
    "import xml.etree.ElementTree as et\n",
    "import pandas as pd"
   ]
  },
  {
   "cell_type": "markdown",
   "metadata": {},
   "source": [
    "# Επεξεργασία δεδομένων"
   ]
  },
  {
   "cell_type": "markdown",
   "metadata": {},
   "source": [
    "## Επεξεργασία xml αρχείων\n",
    "\n",
    "Κάθε xml αρχείο αντιστοιχεί σε έναν υπό εξέταση άνθρωπο (subject)"
   ]
  },
  {
   "cell_type": "code",
   "execution_count": 79,
   "metadata": {},
   "outputs": [],
   "source": [
    "def check_if_NoneType(child):\n",
    "    '''\n",
    "    Avoid AttributeError: 'NoneType' object has no attribute 'text'\n",
    "    '''\n",
    "    if writing.find(child) is not None:\n",
    "        return writing.find(child).text\n",
    "    else:\n",
    "        return 'NaN'"
   ]
  },
  {
   "cell_type": "code",
   "execution_count": 80,
   "metadata": {},
   "outputs": [],
   "source": [
    "xml_path = '../Data/data/'\n",
    "df_list  = []\n",
    "\n",
    "for file in os.listdir(xml_path):\n",
    "    tree = et.parse(xml_path+file)\n",
    "    root = tree.getroot()\n",
    "    \n",
    "    for ID in root.findall('ID'):\n",
    "        identity = ID.text\n",
    "        \n",
    "    datetimes = []\n",
    "    titles    = []\n",
    "    texts     = []\n",
    "    infos     = []\n",
    "    \n",
    "    for writing in root.findall('WRITING'):\n",
    "        datetimes.append(check_if_NoneType('DATE'))\n",
    "        titles.append(check_if_NoneType('TITLE'))\n",
    "        texts.append(check_if_NoneType('TEXT'))\n",
    "        infos.append(check_if_NoneType('INFO'))\n",
    "    \n",
    "    zippedList     = list(zip(datetimes, titles, texts, infos))\n",
    "    df             = pd.DataFrame(data=zippedList, columns=['DateTime', 'Title', 'Text', 'Info'])\n",
    "    df['DateTime'] = pd.to_datetime(df['DateTime'])\n",
    "    df['Subject']  = identity\n",
    "    \n",
    "    df_list.append(df)"
   ]
  },
  {
   "cell_type": "code",
   "execution_count": 81,
   "metadata": {},
   "outputs": [
    {
     "data": {
      "text/html": [
       "<div>\n",
       "<style scoped>\n",
       "    .dataframe tbody tr th:only-of-type {\n",
       "        vertical-align: middle;\n",
       "    }\n",
       "\n",
       "    .dataframe tbody tr th {\n",
       "        vertical-align: top;\n",
       "    }\n",
       "\n",
       "    .dataframe thead th {\n",
       "        text-align: right;\n",
       "    }\n",
       "</style>\n",
       "<table border=\"1\" class=\"dataframe\">\n",
       "  <thead>\n",
       "    <tr style=\"text-align: right;\">\n",
       "      <th></th>\n",
       "      <th>DateTime</th>\n",
       "      <th>Title</th>\n",
       "      <th>Text</th>\n",
       "      <th>Info</th>\n",
       "      <th>Subject</th>\n",
       "    </tr>\n",
       "    <tr>\n",
       "      <th>Post_ID</th>\n",
       "      <th></th>\n",
       "      <th></th>\n",
       "      <th></th>\n",
       "      <th></th>\n",
       "      <th></th>\n",
       "    </tr>\n",
       "  </thead>\n",
       "  <tbody>\n",
       "    <tr>\n",
       "      <th>170425</th>\n",
       "      <td>2018-09-01 15:40:33</td>\n",
       "      <td>NaN</td>\n",
       "      <td>That is actually much better</td>\n",
       "      <td>Reddit post</td>\n",
       "      <td>subject6918</td>\n",
       "    </tr>\n",
       "    <tr>\n",
       "      <th>170426</th>\n",
       "      <td>2018-09-02 02:37:56</td>\n",
       "      <td>My wife told me,  #8220;If anything happens to...</td>\n",
       "      <td>NaN</td>\n",
       "      <td>Reddit post</td>\n",
       "      <td>subject6918</td>\n",
       "    </tr>\n",
       "    <tr>\n",
       "      <th>170427</th>\n",
       "      <td>2018-09-02 03:03:01</td>\n",
       "      <td>SiCk PsYcHo FuCkInG DeStRoYS BrOtHeRs EaR</td>\n",
       "      <td>NaN</td>\n",
       "      <td>Reddit post</td>\n",
       "      <td>subject6918</td>\n",
       "    </tr>\n",
       "    <tr>\n",
       "      <th>170428</th>\n",
       "      <td>2018-09-02 04:57:57</td>\n",
       "      <td>NaN</td>\n",
       "      <td>F</td>\n",
       "      <td>Reddit post</td>\n",
       "      <td>subject6918</td>\n",
       "    </tr>\n",
       "    <tr>\n",
       "      <th>170429</th>\n",
       "      <td>2018-09-02 14:08:42</td>\n",
       "      <td>Leaving your bike in the pasture, WCGW?</td>\n",
       "      <td>NaN</td>\n",
       "      <td>Reddit post</td>\n",
       "      <td>subject6918</td>\n",
       "    </tr>\n",
       "    <tr>\n",
       "      <th>170430</th>\n",
       "      <td>2018-09-02 14:11:54</td>\n",
       "      <td>Wcgw if i kick the stairs</td>\n",
       "      <td>NaN</td>\n",
       "      <td>Reddit post</td>\n",
       "      <td>subject6918</td>\n",
       "    </tr>\n",
       "    <tr>\n",
       "      <th>170431</th>\n",
       "      <td>2018-09-02 14:26:26</td>\n",
       "      <td>Whatcouldgowrong if i bounce a ball and a bottle?</td>\n",
       "      <td>NaN</td>\n",
       "      <td>Reddit post</td>\n",
       "      <td>subject6918</td>\n",
       "    </tr>\n",
       "    <tr>\n",
       "      <th>170432</th>\n",
       "      <td>2018-09-03 02:47:10</td>\n",
       "      <td>Goofing off and not working.</td>\n",
       "      <td>NaN</td>\n",
       "      <td>Reddit post</td>\n",
       "      <td>subject6918</td>\n",
       "    </tr>\n",
       "  </tbody>\n",
       "</table>\n",
       "</div>"
      ],
      "text/plain": [
       "                   DateTime  \\\n",
       "Post_ID                       \n",
       "170425  2018-09-01 15:40:33   \n",
       "170426  2018-09-02 02:37:56   \n",
       "170427  2018-09-02 03:03:01   \n",
       "170428  2018-09-02 04:57:57   \n",
       "170429  2018-09-02 14:08:42   \n",
       "170430  2018-09-02 14:11:54   \n",
       "170431  2018-09-02 14:26:26   \n",
       "170432  2018-09-03 02:47:10   \n",
       "\n",
       "                                                     Title  \\\n",
       "Post_ID                                                      \n",
       "170425                                                 NaN   \n",
       "170426   My wife told me,  #8220;If anything happens to...   \n",
       "170427           SiCk PsYcHo FuCkInG DeStRoYS BrOtHeRs EaR   \n",
       "170428                                                 NaN   \n",
       "170429             Leaving your bike in the pasture, WCGW?   \n",
       "170430                           Wcgw if i kick the stairs   \n",
       "170431   Whatcouldgowrong if i bounce a ball and a bottle?   \n",
       "170432                        Goofing off and not working.   \n",
       "\n",
       "                                 Text         Info      Subject  \n",
       "Post_ID                                                          \n",
       "170425   That is actually much better  Reddit post  subject6918  \n",
       "170426                            NaN  Reddit post  subject6918  \n",
       "170427                            NaN  Reddit post  subject6918  \n",
       "170428                              F  Reddit post  subject6918  \n",
       "170429                            NaN  Reddit post  subject6918  \n",
       "170430                            NaN  Reddit post  subject6918  \n",
       "170431                            NaN  Reddit post  subject6918  \n",
       "170432                            NaN  Reddit post  subject6918  "
      ]
     },
     "execution_count": 81,
     "metadata": {},
     "output_type": "execute_result"
    }
   ],
   "source": [
    "# Concatenate all DataFrames. Each DataFrame is referred to one subject.\n",
    "all_data_df = pd.concat(df_list, axis=0)\n",
    "\n",
    "# Create col Post_ID with values [0 ... total_num_of_rows]\n",
    "num_of_rows            = all_data_df.shape[0]\n",
    "all_data_df['Post_ID'] = [i for i in range(num_of_rows)]\n",
    "\n",
    "# Set Post_ID as index of the DataFrame\n",
    "all_data_df.set_index('Post_ID', inplace=True)\n",
    "all_data_df.tail(8)"
   ]
  },
  {
   "cell_type": "markdown",
   "metadata": {},
   "source": [
    "## Επεξεργασία του txt αρχείου\n",
    "\n",
    "Το txt αρχείο περιέχει τη **γενική αλήθεια** (golden truth). Δηλαδή, σημειώνει για κάθε υπο εξέταση άνθρωπο αν εγκυμονεί ο κίνδυνος να αυτο-τραυματισεί. Αυτός θα είναι και ο **στόχος** (target) των μοντέλων που θα αναπτυχθούν. Το πλήθος των υπό εξέταση ανθρώπων είνα **340**\n",
    "\n",
    "|                             | Σήμανση |\n",
    "|:---------------------------:|:-------:|\n",
    "|  Κίνδυνος αυτο-τραυματισμού |    1    |\n",
    "|    Δεν υπάρχει κίνδυνος     |    0    |"
   ]
  },
  {
   "cell_type": "code",
   "execution_count": 82,
   "metadata": {},
   "outputs": [
    {
     "data": {
      "text/html": [
       "<div>\n",
       "<style scoped>\n",
       "    .dataframe tbody tr th:only-of-type {\n",
       "        vertical-align: middle;\n",
       "    }\n",
       "\n",
       "    .dataframe tbody tr th {\n",
       "        vertical-align: top;\n",
       "    }\n",
       "\n",
       "    .dataframe thead th {\n",
       "        text-align: right;\n",
       "    }\n",
       "</style>\n",
       "<table border=\"1\" class=\"dataframe\">\n",
       "  <thead>\n",
       "    <tr style=\"text-align: right;\">\n",
       "      <th></th>\n",
       "      <th>Subject</th>\n",
       "      <th>Target</th>\n",
       "    </tr>\n",
       "  </thead>\n",
       "  <tbody>\n",
       "    <tr>\n",
       "      <th>337</th>\n",
       "      <td>subject3270</td>\n",
       "      <td>0</td>\n",
       "    </tr>\n",
       "    <tr>\n",
       "      <th>338</th>\n",
       "      <td>subject6464</td>\n",
       "      <td>0</td>\n",
       "    </tr>\n",
       "    <tr>\n",
       "      <th>339</th>\n",
       "      <td>subject8721</td>\n",
       "      <td>0</td>\n",
       "    </tr>\n",
       "  </tbody>\n",
       "</table>\n",
       "</div>"
      ],
      "text/plain": [
       "         Subject  Target\n",
       "337  subject3270       0\n",
       "338  subject6464       0\n",
       "339  subject8721       0"
      ]
     },
     "execution_count": 82,
     "metadata": {},
     "output_type": "execute_result"
    }
   ],
   "source": [
    "txt_path      = '../Data/golden_truth.txt'\n",
    "df_gt         = pd.read_csv(txt_path, sep=\" \", header=None)\n",
    "df_gt.columns = ['Subject', 'Target']\n",
    "\n",
    "df_gt.tail(3)"
   ]
  },
  {
   "cell_type": "markdown",
   "metadata": {},
   "source": [
    "\n",
    "|                                     | Πλήθος |\n",
    "|:-----------------------------------:|:------:|\n",
    "|  Κινδυνεύουν να αυτο-τραυματιστούν  |  299   |\n",
    "|      Δεν κινδυνεύουν                |   41   |"
   ]
  },
  {
   "cell_type": "code",
   "execution_count": 83,
   "metadata": {},
   "outputs": [
    {
     "data": {
      "text/plain": [
       "0    299\n",
       "1     41\n",
       "Name: Target, dtype: int64"
      ]
     },
     "execution_count": 83,
     "metadata": {},
     "output_type": "execute_result"
    }
   ],
   "source": [
    "df_gt['Target'].value_counts()"
   ]
  },
  {
   "cell_type": "markdown",
   "metadata": {},
   "source": [
    "# Ένωση των DataFrames\n",
    "\n",
    "Ένωση του df που περιέχει όλα τα δεδομένα σχετικά με τις δημοσιεύσεις των υπό εξέταση ανθρώπων με εκείνο που περιέχει τα δεδομένα για την κατάσταση τους."
   ]
  },
  {
   "cell_type": "code",
   "execution_count": 84,
   "metadata": {},
   "outputs": [
    {
     "name": "stdout",
     "output_type": "stream",
     "text": [
      "<class 'pandas.core.frame.DataFrame'>\n",
      "Int64Index: 170433 entries, 0 to 170432\n",
      "Data columns (total 6 columns):\n",
      " #   Column    Non-Null Count   Dtype         \n",
      "---  ------    --------------   -----         \n",
      " 0   DateTime  170433 non-null  datetime64[ns]\n",
      " 1   Title     170433 non-null  object        \n",
      " 2   Text      170433 non-null  object        \n",
      " 3   Info      170433 non-null  object        \n",
      " 4   Subject   170433 non-null  object        \n",
      " 5   Target    170433 non-null  int64         \n",
      "dtypes: datetime64[ns](1), int64(1), object(4)\n",
      "memory usage: 9.1+ MB\n"
     ]
    }
   ],
   "source": [
    "complete_df = pd.merge(all_data_df, df_gt)\n",
    "\n",
    "complete_df.info()"
   ]
  },
  {
   "cell_type": "code",
   "execution_count": 85,
   "metadata": {},
   "outputs": [
    {
     "data": {
      "text/html": [
       "<div>\n",
       "<style scoped>\n",
       "    .dataframe tbody tr th:only-of-type {\n",
       "        vertical-align: middle;\n",
       "    }\n",
       "\n",
       "    .dataframe tbody tr th {\n",
       "        vertical-align: top;\n",
       "    }\n",
       "\n",
       "    .dataframe thead th {\n",
       "        text-align: right;\n",
       "    }\n",
       "</style>\n",
       "<table border=\"1\" class=\"dataframe\">\n",
       "  <thead>\n",
       "    <tr style=\"text-align: right;\">\n",
       "      <th></th>\n",
       "      <th>DateTime</th>\n",
       "      <th>Title</th>\n",
       "      <th>Text</th>\n",
       "      <th>Info</th>\n",
       "      <th>Subject</th>\n",
       "      <th>Target</th>\n",
       "    </tr>\n",
       "  </thead>\n",
       "  <tbody>\n",
       "    <tr>\n",
       "      <th>0</th>\n",
       "      <td>2016-08-18 20:55:25</td>\n",
       "      <td>Quebec to recieve 10 billion of 18 billion dol...</td>\n",
       "      <td>NaN</td>\n",
       "      <td>Reddit post</td>\n",
       "      <td>subject3178</td>\n",
       "      <td>0</td>\n",
       "    </tr>\n",
       "    <tr>\n",
       "      <th>1</th>\n",
       "      <td>2016-08-25 02:07:48</td>\n",
       "      <td>What are some lesser known tactics to get a be...</td>\n",
       "      <td>NaN</td>\n",
       "      <td>Reddit post</td>\n",
       "      <td>subject3178</td>\n",
       "      <td>0</td>\n",
       "    </tr>\n",
       "    <tr>\n",
       "      <th>2</th>\n",
       "      <td>2016-09-03 03:51:40</td>\n",
       "      <td>What are some old sayings that aren't very pop...</td>\n",
       "      <td>NaN</td>\n",
       "      <td>Reddit post</td>\n",
       "      <td>subject3178</td>\n",
       "      <td>0</td>\n",
       "    </tr>\n",
       "    <tr>\n",
       "      <th>3</th>\n",
       "      <td>2016-09-06 00:30:20</td>\n",
       "      <td>(Canada)Just starting fourth year: is there an...</td>\n",
       "      <td>Is there any material/study questions anyone t...</td>\n",
       "      <td>Reddit post</td>\n",
       "      <td>subject3178</td>\n",
       "      <td>0</td>\n",
       "    </tr>\n",
       "  </tbody>\n",
       "</table>\n",
       "</div>"
      ],
      "text/plain": [
       "             DateTime                                              Title  \\\n",
       "0 2016-08-18 20:55:25  Quebec to recieve 10 billion of 18 billion dol...   \n",
       "1 2016-08-25 02:07:48  What are some lesser known tactics to get a be...   \n",
       "2 2016-09-03 03:51:40  What are some old sayings that aren't very pop...   \n",
       "3 2016-09-06 00:30:20  (Canada)Just starting fourth year: is there an...   \n",
       "\n",
       "                                                Text         Info  \\\n",
       "0                                                NaN  Reddit post   \n",
       "1                                                NaN  Reddit post   \n",
       "2                                                NaN  Reddit post   \n",
       "3  Is there any material/study questions anyone t...  Reddit post   \n",
       "\n",
       "       Subject  Target  \n",
       "0  subject3178       0  \n",
       "1  subject3178       0  \n",
       "2  subject3178       0  \n",
       "3  subject3178       0  "
      ]
     },
     "execution_count": 85,
     "metadata": {},
     "output_type": "execute_result"
    }
   ],
   "source": [
    "complete_df.head(4)"
   ]
  },
  {
   "cell_type": "markdown",
   "metadata": {},
   "source": [
    "# Εξαγωγή\n",
    "\n",
    "Εξαγωγή του DataFrame σε csv αρχείο."
   ]
  },
  {
   "cell_type": "code",
   "execution_count": 86,
   "metadata": {},
   "outputs": [],
   "source": [
    "csv_path = '../Data/CSVs/first_complete_df.csv'\n",
    "complete_df.to_csv(csv_path)"
   ]
  }
 ],
 "metadata": {
  "kernelspec": {
   "display_name": "Python 3",
   "language": "python",
   "name": "python3"
  },
  "language_info": {
   "codemirror_mode": {
    "name": "ipython",
    "version": 3
   },
   "file_extension": ".py",
   "mimetype": "text/x-python",
   "name": "python",
   "nbconvert_exporter": "python",
   "pygments_lexer": "ipython3",
   "version": "3.7.5"
  }
 },
 "nbformat": 4,
 "nbformat_minor": 4
}

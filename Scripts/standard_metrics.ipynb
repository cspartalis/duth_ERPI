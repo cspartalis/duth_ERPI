{
 "cells": [
  {
   "cell_type": "markdown",
   "metadata": {},
   "source": [
    "# Περιγραφή\n",
    "\n",
    "Σ' αυτό το notebook θα εξετάστούν ορισμένες **μετρικές αξιολόγησης**. Στην παρούσα φάση, ο σκοπός έγκειται στο να υπάρξει μία πρώτη εντύπωση όσον αφορά την **απόδοση** αυτών των μετρικών **σε συσχέτιση μετα δεδομένα**.\n",
    "\n",
    "Είναι χρήσιμο να καταλήξουμε σε μια **μοναδική** μετρική, η οποία θα αποδίδει σχετικά καλά. Σύμφωνα με αυτή θα αξιολογούνται οι επόμενες κινήσεις."
   ]
  },
  {
   "cell_type": "markdown",
   "metadata": {},
   "source": [
    "# Βιβλιοθήκες"
   ]
  },
  {
   "cell_type": "code",
   "execution_count": 18,
   "metadata": {},
   "outputs": [],
   "source": [
    "import os\n",
    "import numpy as np\n",
    "import pandas as pd\n",
    "from sklearn.metrics import classification_report, accuracy_score"
   ]
  },
  {
   "cell_type": "markdown",
   "metadata": {},
   "source": [
    "# Δεδομένα\n",
    "\n",
    "Παρακάτω θα αποδειχτεί ότι τα δεδομένα έιναι **unbalanced**. Δηλαδή, τόσο οι υπό εξέταση άνθρωποι όσο και οι δημοσιέυσεις είναι **άνισα** μοιρασμένες στις δύο κατηγορίες."
   ]
  },
  {
   "cell_type": "markdown",
   "metadata": {},
   "source": [
    "## Άνθρωποι υπό εξέταση (subjects)\n",
    "\n",
    "**Αναλογία μεταξύ των Κλάσεων: 7:1**\n",
    "\n",
    "|            Κατάσταση                | Πλήθος | Ποσοστό |\n",
    "|:-----------------------------------:|:------:|:-------:|\n",
    "|  Κινδυνεύουν να αυτο-τραυματιστούν  |  299   |  87.94% |\n",
    "|      Δεν κινδυνεύουν                |   41   |  12.06% |"
   ]
  },
  {
   "cell_type": "code",
   "execution_count": 19,
   "metadata": {},
   "outputs": [
    {
     "data": {
      "text/plain": [
       "0    299\n",
       "1     41\n",
       "Name: Target, dtype: int64"
      ]
     },
     "execution_count": 19,
     "metadata": {},
     "output_type": "execute_result"
    }
   ],
   "source": [
    "txt_path      = '../Data/golden_truth.txt'\n",
    "df_gt         = pd.read_csv(txt_path, sep=\" \", header=None)\n",
    "df_gt.columns = ['Subject', 'Target']\n",
    "df_gt['Target'].value_counts()"
   ]
  },
  {
   "cell_type": "markdown",
   "metadata": {},
   "source": [
    "## Δημοσιεύσεις (posts)\n",
    "**Αναλογία μεταξύ των Κλάσεων: 24:1**\n",
    "\n",
    "|         Δημοσιεύσεις        | Πλήθος | Ποσοστό |\n",
    "|:---------------------------:|:------:|:-------:|\n",
    "|  Κίνδυνος αυτο-τραυματισμού | 163506 |  95.94% |\n",
    "|    Δεν υπάρχει κίνδυνος     |   6927 |   4.06% |"
   ]
  },
  {
   "cell_type": "code",
   "execution_count": 6,
   "metadata": {},
   "outputs": [
    {
     "data": {
      "text/plain": [
       "0    163506\n",
       "1      6927\n",
       "Name: Target, dtype: int64"
      ]
     },
     "execution_count": 6,
     "metadata": {},
     "output_type": "execute_result"
    }
   ],
   "source": [
    "csv_path = '../Data/CSVs/first_complete_df.csv'\n",
    "df_posts = pd.read_csv(csv_path)\n",
    "df_posts['Target'].value_counts()"
   ]
  },
  {
   "cell_type": "markdown",
   "metadata": {},
   "source": [
    "# Μετρικές\n",
    "\n",
    "Σ' αυτή τη φάση θα εξεταστούν μόνο οι κοινές μετρικές. Δηλαδή, αυτές που η χρήση τους είναι η πιο σύνηθης σε προβλήματα κατηγοριοποίησης (classification).\n",
    "\n",
    "![ConfusionMatrixEl](../Images/confusion_matrix_el.png)\n",
    "![ConfusionMatrixEng](../Images/confusion_matrix_eng.png)\n",
    "\n",
    "Στο συγκεκριμένο πρόβλημα, που θα αντιμετωπίσουμε στη συνέχεια, πρέπει να ελαχιστοποιηθούν οι **Ψευδώς Αρνητικές (FN)** προβλέψεις. Γιατί, στην προκειμένη περίπτωση, ένας άνθρωπος που κινδυνεύει να αυτο-τραυματιστεί, θα θεωρηθεί πως δε διατρέχει κανένα κίνδυνο.\n",
    "\n",
    "* $ Recall = \\frac{TP}{TP+FN} $\n",
    "<br><br>\n",
    "* $ Percision = \\frac{TP}{TP+FP} $\n",
    "<br><br>\n",
    "* $ Accuracy = \\frac{TP+ΤΝ}{TP+TN+FP+FN} $\n",
    "<br><br>\n",
    "* $ F1 = 2 \\frac{PR}{P+R} $"
   ]
  },
  {
   "cell_type": "markdown",
   "metadata": {},
   "source": [
    "## Recall (ή Sensitivity)\n",
    "\n",
    "Δείχνει το ποσοστό των Πραγματικών Θετικών Περιπτώσεων, που προβλέθηκαν ως τέτοιες.\n",
    "\n",
    "Έτσι, αν όλα τα δείγματα κατηγοριοποιηθούν σε μία κλάση, τότε $ FN = 0 $. \n",
    "   \n",
    "Άρα $ R = \\frac{TP}{TP+FN} = 1 $, για τη συγκεκριμένη κλάση."
   ]
  },
  {
   "cell_type": "markdown",
   "metadata": {},
   "source": [
    "## Precision\n",
    "\n",
    "Δείχνει το ποσοστό των Προβλεπόμενων Θετικών Περιπτώσεων, που ανήκουν όντως στη θετική Κλάση."
   ]
  },
  {
   "cell_type": "markdown",
   "metadata": {},
   "source": [
    "## Accuracy\n",
    "\n",
    "Δείχνει το ποσοστό των προβλέψεων που έγιναν σωστά. Δηλαδή το ποσοστό των δειγμάτων που καρηγοριοποιήθηκαν στη σωστή κλάση.\n",
    "   \n",
    "Δεν αποτελεί καλή μετρική σε περίπτωση που τα δεδομένα είναι **ανισομερώς μοιρασμένα (unbalanced) σε μεγάλο βαθμό**. Αν όλα τα δείγματα καυηγοριοποιηθούν στην κλάση με τα περισσότερα δείγματα, τότε το accuracy θα τείνει να μεγιστοποιηθεί, χωρίς αυτό να σημαίνει πως το μοντέλο που κατηγοριοποίησε τα δείματα είναι αποτελεσματικό στην επίλυση του προβλήματος που καλείται να αντιμετωπίσει.\n",
    "\n",
    "Στη συγκεκριμένη περίπτωση, αν κατηγοριοποιούνταν όλα τα δείγματα στην Κλάση \"Δε διατρέχει κίνδυνο αυτο-τραυματισμού\", τότε το **accuracy** θα ήταν εξαιρετικά **υψηλό**, όμως η εν λόγω κατηγοριοποίηση είναι πλήρως **αποτυχημένη**. Μάλιστα, μ' αυτό τον τρόπο **τα FNs θα πάρουν τη μέγιστη τιμή τους**, με τα επακόλουθα που αναφέρθηκαν παραπάνω. "
   ]
  },
  {
   "cell_type": "markdown",
   "metadata": {},
   "source": [
    "## F-measure\n",
    "\n",
    "Συνδυάζει Recall και Precision (τα οποία έχουν μια αντιστρόφως ανάλογη σχέση μεταξύ τους) σε μία μόνο μετρική.\n",
    "   \n",
    "$ F = \\frac{1}{\\alpha\\frac{1}{P}+(1-\\alpha)\\frac{1}{R}} = \\frac{(\\beta^2+1)PR}{\\beta^2P+R} $, όπου $ \\beta^2 = \\frac{1-\\alpha}{\\alpha} $\n",
    "\n",
    "$ F {\\tiny \\beta=1} = \\frac{2PR}{P+R} $"
   ]
  },
  {
   "cell_type": "markdown",
   "metadata": {},
   "source": [
    "# Υποθέσεις - Δοκιμές"
   ]
  },
  {
   "cell_type": "markdown",
   "metadata": {},
   "source": [
    "## Σενάριο 1\n",
    "\n",
    "Θεωρούμε πως όλα τα δείγματα κατηγοριοπούντα στην Κλάση-0 (Δεν υπάρχει κίνδυνος αυτο-τραυματισμού)"
   ]
  },
  {
   "cell_type": "code",
   "execution_count": 27,
   "metadata": {},
   "outputs": [
    {
     "name": "stdout",
     "output_type": "stream",
     "text": [
      "              precision    recall  f1-score   support\n",
      "\n",
      "           0       0.88      1.00      0.94       299\n",
      "           1       0.00      0.00      0.00        41\n",
      "\n",
      "    accuracy                           0.88       340\n",
      "   macro avg       0.44      0.50      0.47       340\n",
      "weighted avg       0.77      0.88      0.82       340\n",
      "\n"
     ]
    }
   ],
   "source": [
    "predictions = np.zeros(df_gt.shape[0])\n",
    "print(classification_report(df_gt['Target'], predictions))"
   ]
  },
  {
   "cell_type": "markdown",
   "metadata": {},
   "source": [
    "## Σενάριο 2\n",
    "\n",
    "Θεωρούμε πως όλα τα δείγματα κατηγοριοπούντα στην Κλάση-1 (Yπάρχει κίνδυνος αυτο-τραυματισμού)"
   ]
  },
  {
   "cell_type": "code",
   "execution_count": 28,
   "metadata": {},
   "outputs": [
    {
     "name": "stdout",
     "output_type": "stream",
     "text": [
      "              precision    recall  f1-score   support\n",
      "\n",
      "           0       0.00      0.00      0.00       299\n",
      "           1       0.12      1.00      0.22        41\n",
      "\n",
      "    accuracy                           0.12       340\n",
      "   macro avg       0.06      0.50      0.11       340\n",
      "weighted avg       0.01      0.12      0.03       340\n",
      "\n"
     ]
    }
   ],
   "source": [
    "predictions = np.ones(df_gt.shape[0])\n",
    "print(classification_report(df_gt['Target'], predictions))"
   ]
  },
  {
   "cell_type": "markdown",
   "metadata": {},
   "source": [
    "## Σενάριο 3\n",
    "\n",
    "Οι προβλέψεις ανήκουν σε κάθεμια κλάση με πιθανότητα 50%"
   ]
  },
  {
   "cell_type": "code",
   "execution_count": 62,
   "metadata": {},
   "outputs": [
    {
     "name": "stdout",
     "output_type": "stream",
     "text": [
      "Ones: 161\n",
      "Zeros: 179\n",
      "              precision    recall  f1-score   support\n",
      "\n",
      "           0       0.85      0.51      0.64       299\n",
      "           1       0.09      0.34      0.14        41\n",
      "\n",
      "    accuracy                           0.49       340\n",
      "   macro avg       0.47      0.42      0.39       340\n",
      "weighted avg       0.76      0.49      0.58       340\n",
      "\n"
     ]
    }
   ],
   "source": [
    "predictions = np.random.randint(0,2,df_gt.shape[0])\n",
    "\n",
    "ones  = np.count_nonzero(predictions)\n",
    "zeros = len(predictions) - ones\n",
    "print(\"Ones:\", ones)\n",
    "print(\"Zeros:\", zeros)\n",
    "\n",
    "print(classification_report(df_gt['Target'], predictions))"
   ]
  },
  {
   "cell_type": "markdown",
   "metadata": {},
   "source": [
    "# Πηγές\n",
    "\n",
    "Manning Ch. D., Raghavan P., Schütze H. (2009) *Introduction to Information Retrieval* **Evaluation in information retrieval 8*\n",
    "\n",
    "8 Evaluation in information retrieval\n",
    "\n",
    "179-182"
   ]
  },
  {
   "cell_type": "code",
   "execution_count": null,
   "metadata": {},
   "outputs": [],
   "source": []
  }
 ],
 "metadata": {
  "kernelspec": {
   "display_name": "Python 3",
   "language": "python",
   "name": "python3"
  },
  "language_info": {
   "codemirror_mode": {
    "name": "ipython",
    "version": 3
   },
   "file_extension": ".py",
   "mimetype": "text/x-python",
   "name": "python",
   "nbconvert_exporter": "python",
   "pygments_lexer": "ipython3",
   "version": "3.7.5"
  }
 },
 "nbformat": 4,
 "nbformat_minor": 4
}

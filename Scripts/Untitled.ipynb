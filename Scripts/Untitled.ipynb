{
 "cells": [
  {
   "cell_type": "code",
   "execution_count": 3,
   "metadata": {},
   "outputs": [],
   "source": [
    "import os\n",
    "import xml.etree.ElementTree as et\n",
    "import pandas as pd"
   ]
  },
  {
   "cell_type": "code",
   "execution_count": 25,
   "metadata": {},
   "outputs": [],
   "source": [
    "df_list = []"
   ]
  },
  {
   "cell_type": "code",
   "execution_count": 26,
   "metadata": {},
   "outputs": [],
   "source": [
    "mypath = '/home/kaml/Documents/ERPI/Data/data/'"
   ]
  },
  {
   "cell_type": "code",
   "execution_count": 28,
   "metadata": {},
   "outputs": [],
   "source": [
    "def check_if_NoneType(child):\n",
    "    '''\n",
    "    Avoid AttributeError: 'NoneType' object has no attribute 'text'\n",
    "    '''\n",
    "    if writing.find(child) is not None:\n",
    "        return writing.find(child).text\n",
    "    else:\n",
    "        return 'NaN'"
   ]
  },
  {
   "cell_type": "code",
   "execution_count": 44,
   "metadata": {},
   "outputs": [
    {
     "ename": "IndentationError",
     "evalue": "expected an indented block (<ipython-input-44-fdb90d007c4d>, line 6)",
     "output_type": "error",
     "traceback": [
      "\u001b[0;36m  File \u001b[0;32m\"<ipython-input-44-fdb90d007c4d>\"\u001b[0;36m, line \u001b[0;32m6\u001b[0m\n\u001b[0;31m    identity = ID.text\u001b[0m\n\u001b[0m           ^\u001b[0m\n\u001b[0;31mIndentationError\u001b[0m\u001b[0;31m:\u001b[0m expected an indented block\n"
     ]
    }
   ],
   "source": [
    "for file in os.listdir(mypath):\n",
    "    tree = et.parse(mypath+file)\n",
    "    root = tree.getroot()\n",
    "    \n",
    "    \n",
    "    tag_names = {t.tag for t in root.findall('.//WRITING/*')}\n",
    "    print (root.findall('ID').text, tag_names)"
   ]
  },
  {
   "cell_type": "code",
   "execution_count": null,
   "metadata": {},
   "outputs": [],
   "source": [
    "    \n",
    "    for ID in root.findall('ID'):\n",
    "        identity = ID.text\n",
    "        \n",
    "    datetimes = []\n",
    "    titles = []\n",
    "    texts = []\n",
    "    infos = []\n",
    "    \n",
    "    for writing in root.findall('WRITING'):\n",
    "        datetimes.append(check_if_NoneType('DATE'))\n",
    "        titles.append(check_if_NoneType('TITLE'))\n",
    "        texts.append(check_if_NoneType('TEXT'))\n",
    "        infos.append(check_if_NoneType('INFO'))\n",
    "    \n",
    "    zippedList =  list(zip(datetimes, titles, texts, infos))\n",
    "    df = pd.DataFrame(data=zippedList, columns=['DateTime', 'Title', 'Text', 'Info'])\n",
    "    df['DateTime'] = pd.to_datetime(df['DateTime'])\n",
    "    df['Subject'] = identity\n",
    "    \n",
    "    df_list.append(df)"
   ]
  }
 ],
 "metadata": {
  "kernelspec": {
   "display_name": "Python 3",
   "language": "python",
   "name": "python3"
  },
  "language_info": {
   "codemirror_mode": {
    "name": "ipython",
    "version": 3
   },
   "file_extension": ".py",
   "mimetype": "text/x-python",
   "name": "python",
   "nbconvert_exporter": "python",
   "pygments_lexer": "ipython3",
   "version": "3.7.5"
  }
 },
 "nbformat": 4,
 "nbformat_minor": 4
}

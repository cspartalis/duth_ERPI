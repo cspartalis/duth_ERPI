{
 "cells": [
  {
   "cell_type": "markdown",
   "metadata": {},
   "source": [
    "# Περιγραφή"
   ]
  },
  {
   "cell_type": "markdown",
   "metadata": {},
   "source": [
    "# Εισαγωγή βιβλιοθηκών"
   ]
  },
  {
   "cell_type": "code",
   "execution_count": 206,
   "metadata": {},
   "outputs": [],
   "source": [
    "import numpy as np\n",
    "import pandas as pd"
   ]
  },
  {
   "cell_type": "markdown",
   "metadata": {},
   "source": [
    "# Εισαγωγή"
   ]
  },
  {
   "cell_type": "code",
   "execution_count": 207,
   "metadata": {},
   "outputs": [
    {
     "name": "stdout",
     "output_type": "stream",
     "text": [
      "<class 'pandas.core.frame.DataFrame'>\n",
      "Int64Index: 170433 entries, 0 to 170432\n",
      "Data columns (total 6 columns):\n",
      " #   Column    Non-Null Count   Dtype \n",
      "---  ------    --------------   ----- \n",
      " 0   DateTime  170433 non-null  object\n",
      " 1   Title     49760 non-null   object\n",
      " 2   Text      127678 non-null  object\n",
      " 3   Info      170432 non-null  object\n",
      " 4   Subject   170433 non-null  object\n",
      " 5   Target    170433 non-null  int64 \n",
      "dtypes: int64(1), object(5)\n",
      "memory usage: 9.1+ MB\n"
     ]
    }
   ],
   "source": [
    "csv_path = '../Data/CSVs/first_complete_df.csv'\n",
    "df = pd.read_csv(csv_path, index_col=0)\n",
    "df.info()"
   ]
  },
  {
   "cell_type": "code",
   "execution_count": 208,
   "metadata": {},
   "outputs": [
    {
     "data": {
      "text/html": [
       "<div>\n",
       "<style scoped>\n",
       "    .dataframe tbody tr th:only-of-type {\n",
       "        vertical-align: middle;\n",
       "    }\n",
       "\n",
       "    .dataframe tbody tr th {\n",
       "        vertical-align: top;\n",
       "    }\n",
       "\n",
       "    .dataframe thead th {\n",
       "        text-align: right;\n",
       "    }\n",
       "</style>\n",
       "<table border=\"1\" class=\"dataframe\">\n",
       "  <thead>\n",
       "    <tr style=\"text-align: right;\">\n",
       "      <th></th>\n",
       "      <th>DateTime</th>\n",
       "      <th>Title</th>\n",
       "      <th>Text</th>\n",
       "      <th>Info</th>\n",
       "      <th>Subject</th>\n",
       "      <th>Target</th>\n",
       "    </tr>\n",
       "  </thead>\n",
       "  <tbody>\n",
       "    <tr>\n",
       "      <th>0</th>\n",
       "      <td>2016-08-18 20:55:25</td>\n",
       "      <td>Quebec to recieve 10 billion of 18 billion dol...</td>\n",
       "      <td>NaN</td>\n",
       "      <td>Reddit post</td>\n",
       "      <td>subject3178</td>\n",
       "      <td>0</td>\n",
       "    </tr>\n",
       "    <tr>\n",
       "      <th>1</th>\n",
       "      <td>2016-08-25 02:07:48</td>\n",
       "      <td>What are some lesser known tactics to get a be...</td>\n",
       "      <td>NaN</td>\n",
       "      <td>Reddit post</td>\n",
       "      <td>subject3178</td>\n",
       "      <td>0</td>\n",
       "    </tr>\n",
       "    <tr>\n",
       "      <th>2</th>\n",
       "      <td>2016-09-03 03:51:40</td>\n",
       "      <td>What are some old sayings that aren't very pop...</td>\n",
       "      <td>NaN</td>\n",
       "      <td>Reddit post</td>\n",
       "      <td>subject3178</td>\n",
       "      <td>0</td>\n",
       "    </tr>\n",
       "    <tr>\n",
       "      <th>3</th>\n",
       "      <td>2016-09-06 00:30:20</td>\n",
       "      <td>(Canada)Just starting fourth year: is there an...</td>\n",
       "      <td>Is there any material/study questions anyone t...</td>\n",
       "      <td>Reddit post</td>\n",
       "      <td>subject3178</td>\n",
       "      <td>0</td>\n",
       "    </tr>\n",
       "    <tr>\n",
       "      <th>4</th>\n",
       "      <td>2016-10-03 21:46:54</td>\n",
       "      <td>Taking to the streets - Soldiers of Odin are n...</td>\n",
       "      <td>NaN</td>\n",
       "      <td>Reddit post</td>\n",
       "      <td>subject3178</td>\n",
       "      <td>0</td>\n",
       "    </tr>\n",
       "  </tbody>\n",
       "</table>\n",
       "</div>"
      ],
      "text/plain": [
       "              DateTime                                              Title  \\\n",
       "0  2016-08-18 20:55:25  Quebec to recieve 10 billion of 18 billion dol...   \n",
       "1  2016-08-25 02:07:48  What are some lesser known tactics to get a be...   \n",
       "2  2016-09-03 03:51:40  What are some old sayings that aren't very pop...   \n",
       "3  2016-09-06 00:30:20  (Canada)Just starting fourth year: is there an...   \n",
       "4  2016-10-03 21:46:54  Taking to the streets - Soldiers of Odin are n...   \n",
       "\n",
       "                                                Text         Info  \\\n",
       "0                                                NaN  Reddit post   \n",
       "1                                                NaN  Reddit post   \n",
       "2                                                NaN  Reddit post   \n",
       "3  Is there any material/study questions anyone t...  Reddit post   \n",
       "4                                                NaN  Reddit post   \n",
       "\n",
       "       Subject  Target  \n",
       "0  subject3178       0  \n",
       "1  subject3178       0  \n",
       "2  subject3178       0  \n",
       "3  subject3178       0  \n",
       "4  subject3178       0  "
      ]
     },
     "execution_count": 208,
     "metadata": {},
     "output_type": "execute_result"
    }
   ],
   "source": [
    "df.head(5)"
   ]
  },
  {
   "cell_type": "markdown",
   "metadata": {},
   "source": [
    "# Missing Values\n",
    "\n",
    "Σ"
   ]
  },
  {
   "cell_type": "code",
   "execution_count": 190,
   "metadata": {},
   "outputs": [],
   "source": [
    "def create_nan_series():\n",
    "    '''\n",
    "    Create a Pandas Series with number of NaNs per column\n",
    "    '''\n",
    "    col_names = []\n",
    "    col_nans  = []\n",
    "    for col in df.columns:\n",
    "        col_names.append(col)\n",
    "        col_nans.append(df[col].isnull().sum())\n",
    "    \n",
    "    sr_nans   = pd.Series(data=col_nans, index=col_names)\n",
    "    return (sr_nans)"
   ]
  },
  {
   "cell_type": "code",
   "execution_count": 191,
   "metadata": {},
   "outputs": [
    {
     "data": {
      "text/plain": [
       "DateTime         0\n",
       "Title       120673\n",
       "Text         42755\n",
       "Info             1\n",
       "Subject          0\n",
       "Target           0\n",
       "dtype: int64"
      ]
     },
     "execution_count": 191,
     "metadata": {},
     "output_type": "execute_result"
    }
   ],
   "source": [
    "create_nan_series()"
   ]
  },
  {
   "cell_type": "markdown",
   "metadata": {},
   "source": [
    "### Filling NaN in Info col"
   ]
  },
  {
   "cell_type": "code",
   "execution_count": 192,
   "metadata": {},
   "outputs": [
    {
     "data": {
      "text/plain": [
       "Reddit post    170432\n",
       "Name: Info, dtype: int64"
      ]
     },
     "execution_count": 192,
     "metadata": {},
     "output_type": "execute_result"
    }
   ],
   "source": [
    "df.Info.value_counts()"
   ]
  },
  {
   "cell_type": "code",
   "execution_count": 193,
   "metadata": {},
   "outputs": [],
   "source": [
    "df.drop('Info', axis=1, inplace=True)"
   ]
  },
  {
   "cell_type": "markdown",
   "metadata": {},
   "source": [
    "### Title and Text col"
   ]
  },
  {
   "cell_type": "code",
   "execution_count": 194,
   "metadata": {},
   "outputs": [
    {
     "name": "stderr",
     "output_type": "stream",
     "text": [
      "/home/kaml/anaconda3/lib/python3.7/site-packages/ipykernel_launcher.py:2: UserWarning: Boolean Series key will be reindexed to match DataFrame index.\n",
      "  \n"
     ]
    },
    {
     "data": {
      "text/plain": [
       "0"
      ]
     },
     "execution_count": 194,
     "metadata": {},
     "output_type": "execute_result"
    }
   ],
   "source": [
    "df_Title_isna = df[df.Title.isna()]\n",
    "df_both_nans = df_Title_isna[df.Text.isna()]\n",
    "\n",
    "len(df_both_nans)"
   ]
  },
  {
   "cell_type": "markdown",
   "metadata": {},
   "source": [
    "## Ένωση των πεδίων Title και Text"
   ]
  },
  {
   "cell_type": "code",
   "execution_count": 195,
   "metadata": {},
   "outputs": [],
   "source": [
    "df.Title.fillna('', inplace=True)\n",
    "df.Text.fillna('', inplace=True)\n",
    "\n",
    "df[\"Text\"] = df[\"Title\"] + df[\"Text\"]\n",
    "\n",
    "df.drop('Title', axis=1, inplace=True)"
   ]
  },
  {
   "cell_type": "code",
   "execution_count": 200,
   "metadata": {},
   "outputs": [
    {
     "data": {
      "text/html": [
       "<div>\n",
       "<style scoped>\n",
       "    .dataframe tbody tr th:only-of-type {\n",
       "        vertical-align: middle;\n",
       "    }\n",
       "\n",
       "    .dataframe tbody tr th {\n",
       "        vertical-align: top;\n",
       "    }\n",
       "\n",
       "    .dataframe thead th {\n",
       "        text-align: right;\n",
       "    }\n",
       "</style>\n",
       "<table border=\"1\" class=\"dataframe\">\n",
       "  <thead>\n",
       "    <tr style=\"text-align: right;\">\n",
       "      <th></th>\n",
       "      <th>DateTime</th>\n",
       "      <th>Text</th>\n",
       "      <th>Subject</th>\n",
       "      <th>Target</th>\n",
       "    </tr>\n",
       "  </thead>\n",
       "  <tbody>\n",
       "    <tr>\n",
       "      <th>0</th>\n",
       "      <td>2016-08-18 20:55:25</td>\n",
       "      <td>Quebec to recieve 10 billion of 18 billion dol...</td>\n",
       "      <td>subject3178</td>\n",
       "      <td>0</td>\n",
       "    </tr>\n",
       "    <tr>\n",
       "      <th>1</th>\n",
       "      <td>2016-08-25 02:07:48</td>\n",
       "      <td>What are some lesser known tactics to get a be...</td>\n",
       "      <td>subject3178</td>\n",
       "      <td>0</td>\n",
       "    </tr>\n",
       "    <tr>\n",
       "      <th>2</th>\n",
       "      <td>2016-09-03 03:51:40</td>\n",
       "      <td>What are some old sayings that aren't very pop...</td>\n",
       "      <td>subject3178</td>\n",
       "      <td>0</td>\n",
       "    </tr>\n",
       "    <tr>\n",
       "      <th>3</th>\n",
       "      <td>2016-09-06 00:30:20</td>\n",
       "      <td>(Canada)Just starting fourth year: is there an...</td>\n",
       "      <td>subject3178</td>\n",
       "      <td>0</td>\n",
       "    </tr>\n",
       "    <tr>\n",
       "      <th>4</th>\n",
       "      <td>2016-10-03 21:46:54</td>\n",
       "      <td>Taking to the streets - Soldiers of Odin are n...</td>\n",
       "      <td>subject3178</td>\n",
       "      <td>0</td>\n",
       "    </tr>\n",
       "    <tr>\n",
       "      <th>5</th>\n",
       "      <td>2016-10-26 04:58:44</td>\n",
       "      <td>I was really hoping for a campaign story from ...</td>\n",
       "      <td>subject3178</td>\n",
       "      <td>0</td>\n",
       "    </tr>\n",
       "    <tr>\n",
       "      <th>6</th>\n",
       "      <td>2016-10-27 02:47:44</td>\n",
       "      <td>Feds may impose gender quotas on corporations ...</td>\n",
       "      <td>subject3178</td>\n",
       "      <td>0</td>\n",
       "    </tr>\n",
       "    <tr>\n",
       "      <th>7</th>\n",
       "      <td>2016-12-11 07:16:13</td>\n",
       "      <td>[Main spoilers] Dany may have some troubleSo w...</td>\n",
       "      <td>subject3178</td>\n",
       "      <td>0</td>\n",
       "    </tr>\n",
       "    <tr>\n",
       "      <th>8</th>\n",
       "      <td>2017-01-03 18:28:37</td>\n",
       "      <td>Another view of the Taj Mahal that most don't ...</td>\n",
       "      <td>subject3178</td>\n",
       "      <td>0</td>\n",
       "    </tr>\n",
       "    <tr>\n",
       "      <th>9</th>\n",
       "      <td>2017-01-04 02:38:48</td>\n",
       "      <td>gt;My questions are philosophical not factual...</td>\n",
       "      <td>subject3178</td>\n",
       "      <td>0</td>\n",
       "    </tr>\n",
       "    <tr>\n",
       "      <th>10</th>\n",
       "      <td>2017-01-04 02:40:09</td>\n",
       "      <td>I think I see it from here</td>\n",
       "      <td>subject3178</td>\n",
       "      <td>0</td>\n",
       "    </tr>\n",
       "    <tr>\n",
       "      <th>11</th>\n",
       "      <td>2017-01-04 04:20:21</td>\n",
       "      <td>Time played though  #128561; #128561; #128561;...</td>\n",
       "      <td>subject3178</td>\n",
       "      <td>0</td>\n",
       "    </tr>\n",
       "    <tr>\n",
       "      <th>12</th>\n",
       "      <td>2017-01-04 04:57:59</td>\n",
       "      <td>Holy, you poor guy.</td>\n",
       "      <td>subject3178</td>\n",
       "      <td>0</td>\n",
       "    </tr>\n",
       "    <tr>\n",
       "      <th>13</th>\n",
       "      <td>2017-01-04 05:11:40</td>\n",
       "      <td>Hahahahahaha</td>\n",
       "      <td>subject3178</td>\n",
       "      <td>0</td>\n",
       "    </tr>\n",
       "    <tr>\n",
       "      <th>14</th>\n",
       "      <td>2017-01-04 05:31:22</td>\n",
       "      <td>Blame is not a solution. Start with square 1, ...</td>\n",
       "      <td>subject3178</td>\n",
       "      <td>0</td>\n",
       "    </tr>\n",
       "  </tbody>\n",
       "</table>\n",
       "</div>"
      ],
      "text/plain": [
       "               DateTime                                               Text  \\\n",
       "0   2016-08-18 20:55:25  Quebec to recieve 10 billion of 18 billion dol...   \n",
       "1   2016-08-25 02:07:48  What are some lesser known tactics to get a be...   \n",
       "2   2016-09-03 03:51:40  What are some old sayings that aren't very pop...   \n",
       "3   2016-09-06 00:30:20  (Canada)Just starting fourth year: is there an...   \n",
       "4   2016-10-03 21:46:54  Taking to the streets - Soldiers of Odin are n...   \n",
       "5   2016-10-26 04:58:44  I was really hoping for a campaign story from ...   \n",
       "6   2016-10-27 02:47:44  Feds may impose gender quotas on corporations ...   \n",
       "7   2016-12-11 07:16:13  [Main spoilers] Dany may have some troubleSo w...   \n",
       "8   2017-01-03 18:28:37  Another view of the Taj Mahal that most don't ...   \n",
       "9   2017-01-04 02:38:48   gt;My questions are philosophical not factual...   \n",
       "10  2017-01-04 02:40:09                         I think I see it from here   \n",
       "11  2017-01-04 04:20:21  Time played though  #128561; #128561; #128561;...   \n",
       "12  2017-01-04 04:57:59                                Holy, you poor guy.   \n",
       "13  2017-01-04 05:11:40                                       Hahahahahaha   \n",
       "14  2017-01-04 05:31:22  Blame is not a solution. Start with square 1, ...   \n",
       "\n",
       "        Subject  Target  \n",
       "0   subject3178       0  \n",
       "1   subject3178       0  \n",
       "2   subject3178       0  \n",
       "3   subject3178       0  \n",
       "4   subject3178       0  \n",
       "5   subject3178       0  \n",
       "6   subject3178       0  \n",
       "7   subject3178       0  \n",
       "8   subject3178       0  \n",
       "9   subject3178       0  \n",
       "10  subject3178       0  \n",
       "11  subject3178       0  \n",
       "12  subject3178       0  \n",
       "13  subject3178       0  \n",
       "14  subject3178       0  "
      ]
     },
     "execution_count": 200,
     "metadata": {},
     "output_type": "execute_result"
    }
   ],
   "source": [
    "df.head(15)"
   ]
  },
  {
   "cell_type": "markdown",
   "metadata": {},
   "source": [
    "## Διαγραφή της στήλης Info"
   ]
  },
  {
   "cell_type": "code",
   "execution_count": 197,
   "metadata": {},
   "outputs": [
    {
     "name": "stdout",
     "output_type": "stream",
     "text": [
      "<class 'pandas.core.frame.DataFrame'>\n",
      "Int64Index: 170433 entries, 0 to 170432\n",
      "Data columns (total 4 columns):\n",
      " #   Column    Non-Null Count   Dtype \n",
      "---  ------    --------------   ----- \n",
      " 0   DateTime  170433 non-null  object\n",
      " 1   Text      170433 non-null  object\n",
      " 2   Subject   170433 non-null  object\n",
      " 3   Target    170433 non-null  int64 \n",
      "dtypes: int64(1), object(3)\n",
      "memory usage: 11.5+ MB\n"
     ]
    }
   ],
   "source": [
    "df.info()"
   ]
  },
  {
   "cell_type": "markdown",
   "metadata": {},
   "source": [
    "# Εξαγωγή"
   ]
  },
  {
   "cell_type": "code",
   "execution_count": 199,
   "metadata": {},
   "outputs": [],
   "source": [
    "csv_path = '../Data/CSVs/removed_Info_merged_Text_df.csv'\n",
    "df.to_csv(csv_path)"
   ]
  }
 ],
 "metadata": {
  "kernelspec": {
   "display_name": "Python 3",
   "language": "python",
   "name": "python3"
  },
  "language_info": {
   "codemirror_mode": {
    "name": "ipython",
    "version": 3
   },
   "file_extension": ".py",
   "mimetype": "text/x-python",
   "name": "python",
   "nbconvert_exporter": "python",
   "pygments_lexer": "ipython3",
   "version": "3.8.3"
  }
 },
 "nbformat": 4,
 "nbformat_minor": 4
}
